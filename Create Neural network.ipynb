{
 "cells": [
  {
   "cell_type": "code",
   "execution_count": 130,
   "metadata": {},
   "outputs": [],
   "source": [
    "from __future__ import absolute_import\n",
    "from __future__ import division\n",
    "from __future__ import print_function\n",
    "\n",
    "import os\n",
    "import time\n",
    "import numpy as np\n",
    "import matplotlib.pyplot as plt\n",
    "#%matplotlib inline\n",
    "from sklearn.datasets import load_iris"
   ]
  },
  {
   "cell_type": "markdown",
   "metadata": {},
   "source": [
    "Data generation"
   ]
  },
  {
   "cell_type": "code",
   "execution_count": 131,
   "metadata": {},
   "outputs": [],
   "source": [
    "data = load_iris()"
   ]
  },
  {
   "cell_type": "code",
   "execution_count": 132,
   "metadata": {},
   "outputs": [
    {
     "data": {
      "text/plain": [
       "dict_keys(['data', 'target', 'frame', 'target_names', 'DESCR', 'feature_names', 'filename'])"
      ]
     },
     "execution_count": 132,
     "metadata": {},
     "output_type": "execute_result"
    }
   ],
   "source": [
    "data.keys()"
   ]
  },
  {
   "cell_type": "code",
   "execution_count": 133,
   "metadata": {},
   "outputs": [
    {
     "name": "stdout",
     "output_type": "stream",
     "text": [
      "Data shape (150, 4)\n"
     ]
    }
   ],
   "source": [
    "data_x = data.data\n",
    "print(f\"Data shape {data.data.shape}\")"
   ]
  },
  {
   "cell_type": "code",
   "execution_count": 134,
   "metadata": {},
   "outputs": [
    {
     "name": "stdout",
     "output_type": "stream",
     "text": [
      "Data shape (150,)\n"
     ]
    }
   ],
   "source": [
    "data_y = data.target\n",
    "print(f\"Data shape {data.target.shape}\")"
   ]
  },
  {
   "cell_type": "code",
   "execution_count": null,
   "metadata": {},
   "outputs": [],
   "source": []
  },
  {
   "cell_type": "markdown",
   "metadata": {},
   "source": [
    "# Gradient Desent"
   ]
  },
  {
   "cell_type": "code",
   "execution_count": 135,
   "metadata": {},
   "outputs": [],
   "source": [
    "class LinearRegression(object):\n",
    "    # constructor กำหนด Paramiter ต่าง ๆ\n",
    "    def __init__(self, data_x, data_y,\n",
    "                w_init = None, b_init = None, learning_rate = 0.1 ):\n",
    "        \n",
    "        scale = 4.0\n",
    "        self.x = data_x\n",
    "        self.y = data_y\n",
    "        self.lr = learning_rate\n",
    "        \n",
    "        \n",
    "        #เอาไว้เก็บการ updata หรือ history ต่างๆ\n",
    "        self.loss_history = []\n",
    "        self.epochs = []\n",
    "        self.w_history = []\n",
    "        self.b_history = []\n",
    "        \n",
    "        \n",
    "        '''\n",
    "        \n",
    "        ตั้งเงื่อนไข ของการกำหนดค่า Innitizer ของ W, B\n",
    "        ถ้ามีการรับค่า paramiter เข้ามาจะให้ w_init and b_init เป็น ค่าที่รับเข้ามาเลย\n",
    "    \n",
    "        '''\n",
    "        if w_init is not None:\n",
    "            #self.w = w_init \n",
    "            self.w = np.random.uniform(low = -w_init, high = w_init, size = (4, 1))\n",
    "            #print(f\"Weigth shape {self.shape}\")\n",
    "            \n",
    "        else:\n",
    "            #init w\n",
    "            self.w = np.random.uniform(low = a - scale, high = a + scale)\n",
    "        \n",
    "        if b_init is not None:\n",
    "            #self.b = b_init\n",
    "            self.b = np.random.uniform(low = -b_init, high = b_init, size = (1, 1))\n",
    "        else:\n",
    "            #init b\n",
    "            self.b = np.random.uniform(low = a - scale, high = a + scale)\n",
    "        \n",
    "        \n",
    "    def sigmoid(self ,X):\n",
    "        return 1/(1+np.exp(-X))\n",
    "    \n",
    "    def inference(self, x):\n",
    "        '''\n",
    "        Inference เป็น function ของ model \n",
    "        y_pred = W*X + B\n",
    "        หรือ InearRegression \n",
    "        \n",
    "        ให้ Return คำตอบ ที่ได้จากการคำนวน ออกจาก Method\n",
    "        \n",
    "        '''\n",
    "        \n",
    "        y_pred = np.dot(x, self.w) + self.b\n",
    "        \n",
    "        return y_pred\n",
    "   \n",
    "\n",
    "    def loss_function(self, labels, prediction):\n",
    "        #MSE\n",
    "        #Return mean ของ data shape : 0-rank Tensor (Vector) array\n",
    "        \n",
    "        loss = np.mean((prediction - labels)**2)\n",
    "        \n",
    "        return loss\n",
    "    \n",
    "        \n",
    "    def loss_derivative(self):\n",
    "        \"\"\"\n",
    "        การหาอนุพัน หรือกับ ดิป \n",
    "        \n",
    "        Return :\n",
    "            dw: dl /dw , ของค่า mean\n",
    "            db: dl / db\n",
    "        \"\"\"\n",
    "        \n",
    "        dw = np.mean((self.y_pred - self.y) * self.x)\n",
    "        db = np.mean(self.y_pred - self.y)\n",
    "        \n",
    "        return dw, db\n",
    "    \n",
    "    def updata_weights(self):\n",
    "        \"\"\"\n",
    "        w = w - learning_rate * (dl/dw)\n",
    "        \n",
    "        \"\"\"\n",
    "        self.w = self.w - self.lr * self.dw\n",
    "        self.b = self.b - self.lr * self.db\n",
    "        \n",
    "    def history(self, loss, w, b):\n",
    "        \n",
    "        self.loss_history.append(loss)\n",
    "        self.w_history.append(w)\n",
    "        self.b_history.append(b)\n",
    "        \n",
    "    def fit(self, max_epoch):\n",
    "        \n",
    "        pre_loss = 0.\n",
    "        for epoch in range(max_epoch):\n",
    "            \n",
    "            print(epoch)\n",
    "            self.y_pred = self.inference(self.x)\n",
    "            self.sigmoid(self.y_pred)\n",
    "            self.loss = self.loss_function(self.y, self.y_pred)\n",
    "            self.history(self.loss, self.w, self.b)\n",
    "\n",
    "            self.dw, self.db = self.loss_derivative()\n",
    "            self.updata_weights()\n",
    "            #if np.abs(pre_loss - self.loss) <1e-6:\n",
    "                \n",
    "            self.loss = self.loss_function(self.y, self.y_pred)\n",
    "            self.history(self.loss, self.w, self.b)\n",
    "            print(f\"Epoch {epoch+1} loss: {self.loss}\")\n",
    "            #Weights {self.w} Biases {self.b}\")\n",
    "\n",
    "                #break\n",
    "            pre_loss = self.loss\n",
    "            \n",
    "        self.epochs.append(epoch)\n",
    "        self.w_history = np.array(self.w_history)\n",
    "        self.b_history = np.array(self.b_history)\n"
   ]
  },
  {
   "cell_type": "code",
   "execution_count": 136,
   "metadata": {},
   "outputs": [
    {
     "data": {
      "text/plain": [
       "(150, 4)"
      ]
     },
     "execution_count": 136,
     "metadata": {},
     "output_type": "execute_result"
    }
   ],
   "source": [
    "data_x.shape"
   ]
  },
  {
   "cell_type": "code",
   "execution_count": 137,
   "metadata": {},
   "outputs": [
    {
     "data": {
      "text/plain": [
       "(150, 1)"
      ]
     },
     "execution_count": 137,
     "metadata": {},
     "output_type": "execute_result"
    }
   ],
   "source": [
    "data_y.resize(150, 1)\n",
    "data_y.shape"
   ]
  },
  {
   "cell_type": "code",
   "execution_count": 138,
   "metadata": {},
   "outputs": [
    {
     "name": "stdout",
     "output_type": "stream",
     "text": [
      "Wall time: 0 ns\n"
     ]
    }
   ],
   "source": [
    "%time\n",
    "epoch = 50\n",
    "model1 = LinearRegression(data_x, data_y, 2, 1, 0.001)\n",
    "#print(f'Weigths shape {self.w}')"
   ]
  },
  {
   "cell_type": "code",
   "execution_count": 141,
   "metadata": {
    "scrolled": true
   },
   "outputs": [
    {
     "name": "stdout",
     "output_type": "stream",
     "text": [
      "0\n",
      "Epoch 1 loss: 23.11820853819959\n",
      "1\n",
      "Epoch 2 loss: 22.81530263611532\n",
      "2\n",
      "Epoch 3 loss: 22.54257093901051\n",
      "3\n",
      "Epoch 4 loss: 22.296992011274845\n",
      "4\n",
      "Epoch 5 loss: 22.075846964384287\n",
      "5\n",
      "Epoch 6 loss: 21.876689161785848\n",
      "6\n",
      "Epoch 7 loss: 21.69731695734005\n",
      "7\n",
      "Epoch 8 loss: 21.535749163559903\n",
      "8\n",
      "Epoch 9 loss: 21.39020297630244\n",
      "9\n",
      "Epoch 10 loss: 21.259074109939284\n",
      "10\n",
      "Epoch 11 loss: 21.14091892166324\n",
      "11\n",
      "Epoch 12 loss: 21.03443832575156\n",
      "12\n",
      "Epoch 13 loss: 20.938463318551257\n",
      "13\n",
      "Epoch 14 loss: 20.851941952899057\n",
      "14\n",
      "Epoch 15 loss: 20.77392761683902\n",
      "15\n",
      "Epoch 16 loss: 20.703568486033777\n",
      "16\n",
      "Epoch 17 loss: 20.640098032343353\n",
      "17\n",
      "Epoch 18 loss: 20.582826482813754\n",
      "18\n",
      "Epoch 19 loss: 20.531133133907325\n",
      "19\n",
      "Epoch 20 loss: 20.48445943533661\n",
      "20\n",
      "Epoch 21 loss: 20.44230276643846\n",
      "21\n",
      "Epoch 22 loss: 20.40421083574195\n",
      "22\n",
      "Epoch 23 loss: 20.369776641327466\n",
      "23\n",
      "Epoch 24 loss: 20.33863393582293\n",
      "24\n",
      "Epoch 25 loss: 20.310453145506113\n",
      "25\n",
      "Epoch 26 loss: 20.284937698041702\n",
      "26\n",
      "Epoch 27 loss: 20.261820717935105\n",
      "27\n",
      "Epoch 28 loss: 20.240862052882274\n",
      "28\n",
      "Epoch 29 loss: 20.221845597881604\n",
      "29\n",
      "Epoch 30 loss: 20.204576887292074\n",
      "30\n",
      "Epoch 31 loss: 20.188880928007173\n",
      "31\n",
      "Epoch 32 loss: 20.174600249600747\n",
      "32\n",
      "Epoch 33 loss: 20.1615931497188\n",
      "33\n",
      "Epoch 34 loss: 20.14973211516634\n",
      "34\n",
      "Epoch 35 loss: 20.138902401096438\n",
      "35\n",
      "Epoch 36 loss: 20.12900075247019\n",
      "36\n",
      "Epoch 37 loss: 20.11993425354137\n",
      "37\n",
      "Epoch 38 loss: 20.11161929254631\n",
      "38\n",
      "Epoch 39 loss: 20.103980630063038\n",
      "39\n",
      "Epoch 40 loss: 20.096950560658993\n",
      "40\n",
      "Epoch 41 loss: 20.090468158485823\n",
      "41\n",
      "Epoch 42 loss: 20.084478598415558\n",
      "42\n",
      "Epoch 43 loss: 20.07893254515378\n",
      "43\n",
      "Epoch 44 loss: 20.073785603523095\n",
      "44\n",
      "Epoch 45 loss: 20.06899782379161\n",
      "45\n",
      "Epoch 46 loss: 20.064533256534723\n",
      "46\n",
      "Epoch 47 loss: 20.060359552070114\n",
      "47\n",
      "Epoch 48 loss: 20.056447600002745\n",
      "48\n",
      "Epoch 49 loss: 20.05277120486352\n",
      "49\n",
      "Epoch 50 loss: 20.049306794227398\n"
     ]
    }
   ],
   "source": [
    "model1.fit(epoch)"
   ]
  },
  {
   "cell_type": "code",
   "execution_count": 142,
   "metadata": {
    "scrolled": true
   },
   "outputs": [
    {
     "data": {
      "image/png": "[encoded data removed]",
      "text/plain": [
       "<Figure size 432x288 with 1 Axes>"
      ]
     },
     "metadata": {
      "needs_background": "light"
     },
     "output_type": "display_data"
    }
   ],
   "source": [
    "plt.plot(model.loss_history)\n",
    "plt.xlabel('Epoch')\n",
    "plt.ylabel('Loss')\n",
    "plt.title(\"Gradient Desent\")\n",
    "plt.show()"
   ]
  },
  {
   "cell_type": "code",
   "execution_count": null,
   "metadata": {},
   "outputs": [],
   "source": []
  },
  {
   "cell_type": "markdown",
   "metadata": {},
   "source": [
    "# New Optimizer"
   ]
  },
  {
   "cell_type": "code",
   "execution_count": 143,
   "metadata": {},
   "outputs": [],
   "source": [
    "class LinearRegression(object):\n",
    "    # constructor กำหนด Paramiter ต่าง ๆ\n",
    "    def __init__(self, data_x, data_y,\n",
    "                w_init = None, b_init = None, learning_rate = 0.1 ):\n",
    "        \n",
    "        scale = 4.0\n",
    "        self.x = data_x\n",
    "        self.y = data_y\n",
    "        self.lr = learning_rate\n",
    "        self.t = 1\n",
    "        \n",
    "        #เอาไว้เก็บการ updata หรือ history ต่างๆ\n",
    "        self.loss_history = []\n",
    "        self.epochs = []\n",
    "        self.w_history = []\n",
    "        self.b_history = []\n",
    "        \n",
    "        \n",
    "        '''\n",
    "        \n",
    "        ตั้งเงื่อนไข ของการกำหนดค่า Innitizer ของ W, B\n",
    "        ถ้ามีการรับค่า paramiter เข้ามาจะให้ w_init and b_init เป็น ค่าที่รับเข้ามาเลย\n",
    "    \n",
    "        '''\n",
    "        if w_init is not None:\n",
    "            #self.w = w_init \n",
    "            self.w1 = np.random.uniform(low = -w_init, high = w_init, size = (4, 1))\n",
    "            self.w2 = np.random.uniform(low = -w_init, high = w_init, size = (4, 1))\n",
    "            \n",
    "            self.b1 = np.random.uniform(low = -w_init, high = w_init, size = (1, 1))\n",
    "            self.b2 = np.random.uniform(low = -w_init, high = w_init, size = (1, 1))\n",
    "            \n",
    "            self.w = self.w1 + 0.2 *(self.w1 - self.w2)\n",
    "            self.b = self.b1 + 0.2 * (self.b1 - self.b2)\n",
    "\n",
    "            \n",
    "            \n",
    "    \n",
    "        \n",
    "        \n",
    "    def sigmoid(self ,X):\n",
    "        return 1/(1+np.exp(-X))\n",
    "    \n",
    "    def inference(self, x):\n",
    "        '''\n",
    "        Inference เป็น function ของ model \n",
    "        y_pred = W*X + B\n",
    "        หรือ InearRegression \n",
    "        \n",
    "        ให้ Return คำตอบ ที่ได้จากการคำนวน ออกจาก Method\n",
    "        \n",
    "        '''\n",
    "        \n",
    "        y_pred = np.dot(x, self.w) + self.b\n",
    "        \n",
    "        return y_pred\n",
    "   \n",
    "\n",
    "    def loss_function(self, labels, prediction):\n",
    "        #MSE\n",
    "        #Return mean ของ data shape : 0-rank Tensor (Vector) array\n",
    "        \n",
    "        loss = np.mean((prediction - labels)**2)\n",
    "        \n",
    "        return loss\n",
    "    \n",
    "        \n",
    "    def loss_derivative(self):\n",
    "        \"\"\"\n",
    "        การหาอนุพัน หรือกับ ดิป \n",
    "        \n",
    "        Return :\n",
    "            dw: dl /dw , ของค่า mean\n",
    "            db: dl / db\n",
    "        \"\"\"\n",
    "        \n",
    "        dw = np.mean((self.y_pred - self.y) * self.x)\n",
    "        db = np.mean(self.y_pred - self.y)\n",
    "        return dw, db\n",
    "    \n",
    "    def updata_weights(self):\n",
    "        \"\"\"\n",
    "        w = w - learning_rate * (dl/dw)\n",
    "        \n",
    "        \"\"\"\n",
    "        self.w = self.w - self.lr * self.dw\n",
    "        self.b = self.b - self.lr * self.db\n",
    "        \n",
    "        self.w = (1 - 1/self.t) * self.w + 1/self.t * self.w\n",
    "        self.b = (1- 1/self.t) * self.b + 1/self.t * self.b\n",
    "        \n",
    "        \n",
    "    def history(self, loss, w, b):\n",
    "        \n",
    "        self.loss_history.append(loss)\n",
    "        self.w_history.append(w)\n",
    "        self.b_history.append(b)\n",
    "        \n",
    "    def fit(self, max_epoch):\n",
    "        \n",
    "        pre_loss = 0.\n",
    "        for epoch in range(max_epoch):\n",
    "            \n",
    "            print(epoch)\n",
    "            self.y_pred = self.inference(self.x)\n",
    "            self.sigmoid(self.y_pred)\n",
    "            self.loss = self.loss_function(self.y, self.y_pred)\n",
    "            self.history(self.loss, self.w, self.b)\n",
    "\n",
    "            self.dw, self.db = self.loss_derivative()\n",
    "            self.updata_weights()\n",
    "            #if np.abs(pre_loss - self.loss) <1e-6:\n",
    "                \n",
    "            self.loss = self.loss_function(self.y, self.y_pred)\n",
    "            self.history(self.loss, self.w, self.b)\n",
    "            print(f\"Epoch {epoch+1} loss: {self.loss}\")\n",
    "            #Weights {self.w} Biases {self.b}\")\n",
    "\n",
    "                #break\n",
    "            pre_loss = self.loss\n",
    "            \n",
    "        self.epochs.append(epoch)\n",
    "        self.w_history = np.array(self.w_history)\n",
    "        self.b_history = np.array(self.b_history)\n"
   ]
  },
  {
   "cell_type": "code",
   "execution_count": 144,
   "metadata": {},
   "outputs": [
    {
     "name": "stdout",
     "output_type": "stream",
     "text": [
      "Wall time: 0 ns\n"
     ]
    }
   ],
   "source": [
    "%time\n",
    "epoch = 50\n",
    "model2 = LinearRegression(data_x, data_y, 2, 1, 0.001)"
   ]
  },
  {
   "cell_type": "code",
   "execution_count": 145,
   "metadata": {},
   "outputs": [
    {
     "name": "stdout",
     "output_type": "stream",
     "text": [
      "0\n",
      "Epoch 1 loss: 109.6633130112905\n",
      "1\n",
      "Epoch 2 loss: 98.97070463001063\n",
      "2\n",
      "Epoch 3 loss: 89.34876391851562\n",
      "3\n",
      "Epoch 4 loss: 80.6902811192355\n",
      "4\n",
      "Epoch 5 loss: 72.89878176871328\n",
      "5\n",
      "Epoch 6 loss: 65.88745173444597\n",
      "6\n",
      "Epoch 7 loss: 59.578169891607416\n",
      "7\n",
      "Epoch 8 loss: 53.90063766128937\n",
      "8\n",
      "Epoch 9 loss: 48.79159571117293\n",
      "9\n",
      "Epoch 10 loss: 44.19411909074565\n",
      "10\n",
      "Epoch 11 loss: 40.05698294713513\n",
      "11\n",
      "Epoch 12 loss: 36.33409175407077\n",
      "12\n",
      "Epoch 13 loss: 32.98396569417843\n",
      "13\n",
      "Epoch 14 loss: 29.969278471641573\n",
      "14\n",
      "Epoch 15 loss: 27.25644140532368\n",
      "15\n",
      "Epoch 16 loss: 24.81522916812452\n",
      "16\n",
      "Epoch 17 loss: 22.618443002385206\n",
      "17\n",
      "Epoch 18 loss: 20.64160765873172\n",
      "18\n",
      "Epoch 19 loss: 18.86269868150942\n",
      "19\n",
      "Epoch 20 loss: 17.261897002096298\n",
      "20\n",
      "Epoch 21 loss: 15.821368105660127\n",
      "21\n",
      "Epoch 22 loss: 14.525063310733227\n",
      "22\n",
      "Epoch 23 loss: 13.358540947369717\n",
      "23\n",
      "Epoch 24 loss: 12.308805441369577\n",
      "24\n",
      "Epoch 25 loss: 11.36416251157131\n",
      "25\n",
      "Epoch 26 loss: 10.514088866754419\n",
      "26\n",
      "Epoch 27 loss: 9.749114950254231\n",
      "27\n",
      "Epoch 28 loss: 9.060719425775186\n",
      "28\n",
      "Epoch 29 loss: 8.441234228714773\n",
      "29\n",
      "Epoch 30 loss: 7.8837591250358265\n",
      "30\n",
      "Epoch 31 loss: 7.382084825662711\n",
      "31\n",
      "Epoch 32 loss: 6.930623799706291\n",
      "32\n",
      "Epoch 33 loss: 6.5243480156065985\n",
      "33\n",
      "Epoch 34 loss: 6.158732916476231\n",
      "34\n",
      "Epoch 35 loss: 5.829707005391713\n",
      "35\n",
      "Epoch 36 loss: 5.533606478888871\n",
      "36\n",
      "Epoch 37 loss: 5.267134403167574\n",
      "37\n",
      "Epoch 38 loss: 5.0273239781281855\n",
      "38\n",
      "Epoch 39 loss: 4.811505479910646\n",
      "39\n",
      "Epoch 40 loss: 4.617276513594617\n",
      "40\n",
      "Epoch 41 loss: 4.442475244602496\n",
      "41\n",
      "Epoch 42 loss: 4.28515631053721\n",
      "42\n",
      "Epoch 43 loss: 4.143569145053295\n",
      "43\n",
      "Epoch 44 loss: 4.016138472235839\n",
      "44\n",
      "Epoch 45 loss: 3.9014467541465776\n",
      "45\n",
      "Epoch 46 loss: 3.798218395959593\n",
      "46\n",
      "Epoch 47 loss: 3.705305532692931\n",
      "47\n",
      "Epoch 48 loss: 3.6216752391652935\n",
      "48\n",
      "Epoch 49 loss: 3.546398020665234\n",
      "49\n",
      "Epoch 50 loss: 3.478637456090554\n"
     ]
    }
   ],
   "source": [
    "model2.fit(epoch)"
   ]
  },
  {
   "cell_type": "code",
   "execution_count": 146,
   "metadata": {},
   "outputs": [
    {
     "data": {
      "image/png": "[encoded data removed]",
      "text/plain": [
       "<Figure size 432x288 with 1 Axes>"
      ]
     },
     "metadata": {
      "needs_background": "light"
     },
     "output_type": "display_data"
    }
   ],
   "source": [
    "plt.plot(model2.loss_history)\n",
    "#plt.plot(model1.loss_history)\n",
    "plt.xlabel('Epoch')\n",
    "plt.ylabel('Loss')\n",
    "plt.title(\"New Update Rule\")\n",
    "plt.show()"
   ]
  }
 ],
 "metadata": {
  "kernelspec": {
   "display_name": "Python 3",
   "language": "python",
   "name": "python3"
  },
  "language_info": {
   "codemirror_mode": {
    "name": "ipython",
    "version": 3
   },
   "file_extension": ".py",
   "mimetype": "text/x-python",
   "name": "python",
   "nbconvert_exporter": "python",
   "pygments_lexer": "ipython3",
   "version": "3.8.5"
  }
 },
 "nbformat": 4,
 "nbformat_minor": 4
}
