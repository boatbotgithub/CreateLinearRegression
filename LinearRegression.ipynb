{
 "cells": [
  {
   "cell_type": "code",
   "execution_count": 375,
   "metadata": {},
   "outputs": [],
   "source": [
    "import numpy as np\n",
    "\n",
    "from __future__ import absolute_import\n",
    "from __future__ import division\n",
    "from __future__ import print_function\n",
    "\n",
    "import os\n",
    "import time\n",
    "import numpy as np\n",
    "import matplotlib.pyplot as plt\n",
    "from itertools import zip_longest\n",
    "%matplotlib inline\n",
    "from mpl_toolkits.mplot3d import Axes3D\n",
    "from matplotlib.colors import LogNorm\n",
    "from matplotlib import animation\n",
    "from IPython.display import HTML\n",
    "\n",
    "from itertools import zip_longest"
   ]
  },
  {
   "cell_type": "code",
   "execution_count": 420,
   "metadata": {},
   "outputs": [],
   "source": [
    "class LinearRegression:\n",
    "    \n",
    "    def __init__(self):\n",
    "        try:\n",
    "            init_range = 0.1\n",
    "            random_weigths = np.random.randint(30)\n",
    "            self.history = []\n",
    "            self.weigths_his = []\n",
    "            self.biases_his = []\n",
    "            self.epoch_his = []\n",
    "            self.loss_his = []\n",
    "            self.x = data_x\n",
    "        except:\n",
    "            print(\"function constutor\")\n",
    "            \n",
    "        self.weigths = np.random.uniform(low = -init_range, high = init_range, size=(2, 1))\n",
    "        self.biases = np.random.uniform(low = -init_range, high = init_range, size=(1, 1))\n",
    "\n",
    "        #self.weigths = np.random.uniform(-4, 4)#เข้า2 ออก 1\n",
    "        #self.biases = np.random.uniform(-4, 4)#เข้าออกเท่ากับขาเข้า\n",
    "\n",
    "\n",
    "        #print(f\"shape weigths {self.weigths.shape} shape biases {self.biases.shape}\")\n",
    "        \n",
    "        \n",
    "    def linearRun(self, datas):\n",
    "                                                               \n",
    "        #example 10000 x 2 * 2*1\n",
    "            \n",
    "        y_predic =   np.dot(datas, self.weigths) + self.biases\n",
    "        #y_predic = self.weights * data + self.biases\n",
    "        \n",
    "        return y_predic\n",
    "    \n",
    "    def updataHistory(self, loss, weigths, biases, epoch):\n",
    "        \n",
    "        self.loss_his.append(loss)\n",
    "        self.weigths_his.append(weigths)\n",
    "        self.biases_his.append(biases)\n",
    "        self.epoch_his.append(epoch)\n",
    "    \n",
    "    def lossDerivative(self):\n",
    "        \"\"\"\n",
    "        การหาอนุพัน\n",
    "        Return :\n",
    "            dw: dl /dw , ของค่า mean\n",
    "            db: dl / db\n",
    "        \"\"\"\n",
    "        print(f\"lossDerive {self.x.shape}\")\n",
    "        #dw = np.mean((self.y_predic - self.y) * self.x)\n",
    "        dw = np.mean(self.y_predic - self.y)\n",
    "        db = np.mean(self.y_predic - self.y)\n",
    "        \n",
    "        return dw, db\n",
    "    \n",
    "    def fit(self, data_x, data_y, max_epoch):\n",
    "        \n",
    "        self.x = data_x\n",
    "        self.y = data_y\n",
    "        \n",
    "        p_loss = 0\n",
    "        for epoch in range(max_epoch):\n",
    "            self.y_predic = self.linearRun(self.x)\n",
    "\n",
    "            self.loss = LossFunction().meansSquaredError(self.y, self.y_predic)\n",
    "            self.updataHistory(self.loss, self.weigths, self.biases, i)\n",
    "\n",
    "            self.dw, self.db = self.lossDerivative()\n",
    "            #Updata weigth\n",
    "            self.weigths, self.biases = Optimizer(learning_rate = 0.3,\n",
    "                                                  w = self.weigths,\n",
    "                                                  b = self.biases,\n",
    "                                                  dw = self.dw,\n",
    "                                                  db = self.db\n",
    "                                                 ).gradientDescent()\n",
    "\n",
    "\n",
    "            if np.abs(p_loss - self.loss) < 1e-6:\n",
    "\n",
    "                self.loss = LossFunction().meansSquaredError(self.y, self.y_predic)\n",
    "                self.weigths, self.biases = Optimizer(learning_rate = 0.3,\n",
    "                                                      w = self.weigths,\n",
    "                                                      b = self.biases,\n",
    "                                                      dw = self.dw,\n",
    "                                                      db = self.db).gradientDescent()\n",
    "\n",
    "\n",
    "            self.loss = LossFunction().meansSquaredError(self.y, self.y_predic)\n",
    "            self.updataHistory(self.loss, self.weigths, self.biases, i)\n",
    "\n",
    "            p_loss = self.loss\n",
    "            #if epoch % 10 == 0:\n",
    "            print(f\"epoch {epoch} Loss {self.loss}\")\n",
    "\n",
    "            self.epoch_his.append(i)\n",
    "            self.weigths_his.append(self.weigths)\n",
    "            self.biases_his.append(self.biases)\n",
    "\n"
   ]
  },
  {
   "cell_type": "code",
   "execution_count": 421,
   "metadata": {},
   "outputs": [],
   "source": [
    "class Optimizer:\n",
    "    def __init__(self, learning_rate = None, w = None, b = None, dw = None, db = None):\n",
    "        self.lr = learning_rate\n",
    "        self.weigths = w\n",
    "        self.biases = b\n",
    "        self.dw = dw\n",
    "        self.db = db\n",
    "        \n",
    "    def gradientDescent(self):     \n",
    "        try:\n",
    "            self.weigths = self.weigths - (self.lr * self.dw)\n",
    "            self.biases = self.biases - (self.lr * self.db)\n",
    "            print(f'GradientDescent shape weigths {self.weigths}')\n",
    "        except:\n",
    "            print(\"optimizer error\")\n",
    "        #print(f'{self.weigths.shape} \\n{self.biases.shape}')\n",
    "        return self.weigths, self.biases\n",
    "    \n",
    "        "
   ]
  },
  {
   "cell_type": "code",
   "execution_count": 422,
   "metadata": {},
   "outputs": [],
   "source": [
    "class LossFunction(object):\n",
    "    \n",
    "    def meansSquaredError(self, y_true, y_predic):\n",
    "        \n",
    "        loss = 0.5 * np.mean((y_predic - y_true)**2)\n",
    "        \n",
    "        return loss\n",
    "                    "
   ]
  },
  {
   "cell_type": "code",
   "execution_count": 423,
   "metadata": {},
   "outputs": [],
   "source": [
    "import matplotlib.pyplot as plt\n",
    "np.random.seed(219)\n",
    "N = 200\n",
    "a = 4\n",
    "b = -3\n",
    "low = -3.0\n",
    "high = 4.0\n",
    "data_x = np.random.uniform(low=low, high=high, size=N)\n",
    "data_y = np.zeros(N)\n",
    "for i, x in enumerate(data_x):\n",
    "  scale = - (x - low) * (x - high) / 3. + 1.5\n",
    "  data_y[i] = a * x + b + np.random.normal(loc=0.0, scale=scale, size=1)"
   ]
  },
  {
   "cell_type": "code",
   "execution_count": 424,
   "metadata": {
    "scrolled": true
   },
   "outputs": [
    {
     "data": {
      "image/png": "[encoded data removed]",
      "text/plain": [
       "<Figure size 432x288 with 1 Axes>"
      ]
     },
     "metadata": {
      "needs_background": "light"
     },
     "output_type": "display_data"
    }
   ],
   "source": [
    "plt.plot(data_x, data_y, 'ro')\n",
    "plt.axhline(0, color='black', lw=1)\n",
    "plt.axvline(0, color='black', lw=1)\n",
    "plt.show()"
   ]
  },
  {
   "cell_type": "code",
   "execution_count": 425,
   "metadata": {},
   "outputs": [],
   "source": [
    "#Generate Date to train\n",
    "import numpy as np\n",
    "observation = 1000 #ตัวเเปรนี้จะบอกขนาดของข้อมูล\n",
    "#np.random.uniform(low, high, size) self.weigths, self.biases = Optimizer(learning_rate = 0.3,\n",
    "                                            \n",
    "\n",
    "xs = np.random.uniform(low = -10, high = 10, size = (observation, 1))\n",
    "#xs 1000x1\n",
    "zs = np.random.uniform(low = -10, high = 10, size = (observation, 1))\n",
    "#zs 1000x1\n",
    "inputs = np.column_stack((xs, zs))# ตัวเเปรนี้รวม xs, zs เข้าด้วยกัน\n",
    "\n",
    "# ค่า input k = 2\n",
    "# จำนวนobservation n = 1000\n",
    "\n",
    "#Create date target \n",
    "#targets = f(x,z) = 2*x - 3*z +5  + noise\n",
    "#2* คือ w1, 3* คือ w2, 5 คือ bias\n",
    "noise = np.random.uniform(-1, 1, (observation,1 ))\n",
    "\n",
    "targets = 2*xs - 3*zs + 5 + noise\n",
    "# ค่าoutput m = 1\n",
    "\n",
    "init_range = 0.1\n",
    "learning_rate = 0.01\n",
    "n = 1000\n",
    "k = 2\n",
    "m = 1\n",
    "#weights = np.random.uniform(low = -init_range, high = init_range, size=(2, 1))\n",
    "#weights = np.random.uniform(low = -init_range, high = init_range, size=(k, m))\n",
    "#biases = np.random.uniform(low = -init_range, high = init_range, size = (1, 1))\n",
    "#biases = np.random.uniform(low = -init_range, high = init_range, size = (1, m))"
   ]
  },
  {
   "cell_type": "code",
   "execution_count": 426,
   "metadata": {},
   "outputs": [
    {
     "data": {
      "text/plain": [
       "(1000, 2)"
      ]
     },
     "execution_count": 426,
     "metadata": {},
     "output_type": "execute_result"
    }
   ],
   "source": [
    "inputs.shape"
   ]
  },
  {
   "cell_type": "code",
   "execution_count": 427,
   "metadata": {},
   "outputs": [
    {
     "data": {
      "text/plain": [
       "(1000, 1)"
      ]
     },
     "execution_count": 427,
     "metadata": {},
     "output_type": "execute_result"
    }
   ],
   "source": [
    "targets.shape"
   ]
  },
  {
   "cell_type": "code",
   "execution_count": 428,
   "metadata": {},
   "outputs": [],
   "source": [
    "# using data_x, data_y\n",
    "X = np.concatenate((data_x.reshape(N, 1), np.ones(N).reshape(N, 1)), axis=1)\n",
    "Y = data_y.reshape(N, 1)"
   ]
  },
  {
   "cell_type": "code",
   "execution_count": 429,
   "metadata": {},
   "outputs": [
    {
     "name": "stdout",
     "output_type": "stream",
     "text": [
      "inputs, targets\n"
     ]
    }
   ],
   "source": [
    "print(f'inputs, targets')"
   ]
  },
  {
   "cell_type": "code",
   "execution_count": 430,
   "metadata": {},
   "outputs": [
    {
     "name": "stdout",
     "output_type": "stream",
     "text": [
      "lossDerive (1000, 2)\n",
      "GradientDescent shape weigths [[1.37699602]\n",
      " [1.34851139]]\n",
      "epoch 0 Loss 213.51982609731886\n",
      "lossDerive (1000, 2)\n",
      "GradientDescent shape weigths [[2.27767938]\n",
      " [2.24919474]]\n",
      "epoch 1 Loss 308.6380338089732\n"
     ]
    }
   ],
   "source": [
    "model = LinearRegression()\n",
    "model.fit(inputs, targets, max_epoch = 2)"
   ]
  },
  {
   "cell_type": "code",
   "execution_count": null,
   "metadata": {},
   "outputs": [],
   "source": []
  },
  {
   "cell_type": "code",
   "execution_count": null,
   "metadata": {},
   "outputs": [],
   "source": []
  },
  {
   "cell_type": "code",
   "execution_count": null,
   "metadata": {},
   "outputs": [],
   "source": []
  }
 ],
 "metadata": {
  "kernelspec": {
   "display_name": "Python 3",
   "language": "python",
   "name": "python3"
  },
  "language_info": {
   "codemirror_mode": {
    "name": "ipython",
    "version": 3
   },
   "file_extension": ".py",
   "mimetype": "text/x-python",
   "name": "python",
   "nbconvert_exporter": "python",
   "pygments_lexer": "ipython3",
   "version": "3.8.5"
  }
 },
 "nbformat": 4,
 "nbformat_minor": 4
}
