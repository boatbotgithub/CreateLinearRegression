{
  "nbformat": 4,
  "nbformat_minor": 0,
  "metadata": {
    "colab": {
      "name": "neural network.ipynb",
      "provenance": [],
      "include_colab_link": true
    },
    "kernelspec": {
      "name": "python3",
      "display_name": "Python 3"
    },
    "language_info": {
      "name": "python"
    }
  },
  "cells": [
    {
      "cell_type": "markdown",
      "metadata": {
        "id": "view-in-github",
        "colab_type": "text"
      },
      "source": [
        "<a href=\"https://colab.research.google.com/github/boatbotgithub/CreateLinearRegression/blob/main/NeuralNetwork.ipynb\" target=\"_parent\"><img src=\"https://colab.research.google.com/assets/colab-badge.svg\" alt=\"Open In Colab\"/></a>"
      ]
    },
    {
      "cell_type": "code",
      "metadata": {
        "id": "V1zKNW2x6qAU"
      },
      "source": [
        "import numpy as np\n",
        "import time\n",
        "import numpy as np\n",
        "import matplotlib.pyplot as plt\n",
        "from sklearn.datasets import load_iris"
      ],
      "execution_count": null,
      "outputs": []
    },
    {
      "cell_type": "code",
      "metadata": {
        "id": "xvsnMha267yy"
      },
      "source": [
        "class NeuralNetwork(object):\n",
        "    # constructor กำหนด Paramiter ต่าง ๆ\n",
        "    def __init__(self, data_x, data_y,\n",
        "                w_init = None, b_init = None, learning_rate = 0.1 ):\n",
        "        \n",
        "        scale = 4.0\n",
        "        self.x = data_x\n",
        "        self.y = data_y\n",
        "        self.lr = learning_rate\n",
        "        \n",
        "        \n",
        "        #เอาไว้เก็บการ updata หรือ history ต่างๆ\n",
        "        self.loss_history = []\n",
        "        self.epochs = []\n",
        "        self.w_history = []\n",
        "        self.b_history = []\n",
        "        \n",
        "        if w_init is not None:\n",
        "            #self.w = w_init \n",
        "            self.w = np.random.uniform(low = -w_init, high = w_init, size = (4, 1))\n",
        "            #print(f\"Weigth shape {self.shape}\")\n",
        "            \n",
        "        else:\n",
        "            #init w\n",
        "            self.w = np.random.uniform(low = a - scale, high = a + scale)\n",
        "        \n",
        "        if b_init is not None:\n",
        "            #self.b = b_init\n",
        "            self.b = np.random.uniform(low = -b_init, high = b_init, size = (1, 1))\n",
        "        else:\n",
        "            #init b\n",
        "            self.b = np.random.uniform(low = a - scale, high = a + scale)\n",
        "        \n",
        "        \n",
        "    def sigmoid(self ,X):\n",
        "        return 1/(1+np.exp(-X))\n",
        "\n",
        "    \n",
        "    def inference(self, x):\n",
        "        y_pred = np.dot(x, self.w) + self.b\n",
        "        \n",
        "        return y_pred\n",
        "   \n",
        "\n",
        "    def loss_function(self, labels, prediction):\n",
        "        #MSE        \n",
        "        loss = np.mean((prediction - labels)**2)\n",
        "        \n",
        "        return loss\n",
        "    \n",
        "        \n",
        "    def loss_derivative(self):\n",
        "       \n",
        "        dw = np.mean((self.y_pred - self.y) * self.x)\n",
        "        db = np.mean(self.y_pred - self.y)\n",
        "        \n",
        "        return dw, db\n",
        "    \n",
        "    def updata_weights(self):\n",
        "        \n",
        "        self.w = self.w - self.lr * self.dw\n",
        "        self.b = self.b - self.lr * self.db\n",
        "        \n",
        "    def history(self, loss, w, b):\n",
        "        \n",
        "        self.loss_history.append(loss)\n",
        "        self.w_history.append(w)\n",
        "        self.b_history.append(b)\n",
        "        \n",
        "    def fit(self, max_epoch):\n",
        "        \n",
        "        pre_loss = 0.\n",
        "        for epoch in range(max_epoch):\n",
        "            \n",
        "            print(epoch)\n",
        "            self.y_pred = self.inference(self.x)\n",
        "            self.sigmoid(self.y_pred)\n",
        "            self.loss = self.loss_function(self.y, self.y_pred)\n",
        "            self.history(self.loss, self.w, self.b)\n",
        "\n",
        "            self.dw, self.db = self.loss_derivative()\n",
        "            self.updata_weights()\n",
        "                \n",
        "            self.loss = self.loss_function(self.y, self.y_pred)\n",
        "            self.history(self.loss, self.w, self.b)\n",
        "            print(f\"Epoch {epoch+1} loss: {self.loss}\")\n",
        "            pre_loss = self.loss\n",
        "            \n",
        "        self.epochs.append(epoch)\n",
        "        self.w_history = np.array(self.w_history)\n",
        "        self.b_history = np.array(self.b_history)"
      ],
      "execution_count": null,
      "outputs": []
    },
    {
      "cell_type": "code",
      "metadata": {
        "id": "2tOzTUuH7T_x"
      },
      "source": [
        "data = load_iris()\n",
        "data_x = data.data\n",
        "data_y = data.target\n",
        "data_y.resize(150, 1)"
      ],
      "execution_count": null,
      "outputs": []
    },
    {
      "cell_type": "code",
      "metadata": {
        "colab": {
          "base_uri": "https://localhost:8080/"
        },
        "id": "fJJePbYL7fIi",
        "outputId": "95c52d26-fc33-4c3b-a667-89e127810408"
      },
      "source": [
        "epoch = 10\n",
        "model = NeuralNetwork(data_x, data_y, 2, 1, 0.001)\n",
        "model.fit(epoch)"
      ],
      "execution_count": null,
      "outputs": [
        {
          "output_type": "stream",
          "name": "stdout",
          "text": [
            "0\n",
            "Epoch 1 loss: 273.6083658099381\n",
            "1\n",
            "Epoch 2 loss: 246.22713937820808\n",
            "2\n",
            "Epoch 3 loss: 221.58769166718267\n",
            "3\n",
            "Epoch 4 loss: 199.41547862770733\n",
            "4\n",
            "Epoch 5 loss: 179.4634472821643\n",
            "5\n",
            "Epoch 6 loss: 161.5092829457587\n",
            "6\n",
            "Epoch 7 loss: 145.35293209332406\n",
            "7\n",
            "Epoch 8 loss: 130.81437327027913\n",
            "8\n",
            "Epoch 9 loss: 117.731611210194\n",
            "9\n",
            "Epoch 10 loss: 105.95887180849496\n"
          ]
        }
      ]
    },
    {
      "cell_type": "code",
      "metadata": {
        "colab": {
          "base_uri": "https://localhost:8080/",
          "height": 295
        },
        "id": "38tib6SF7s81",
        "outputId": "b46ccc27-1d10-4a6c-9d6a-382b5fa3aed8"
      },
      "source": [
        "plt.plot(model.loss_history)\n",
        "plt.xlabel('Epoch')\n",
        "plt.ylabel('Loss')\n",
        "plt.title(\"Gradient Desent\")\n",
        "plt.show()"
      ],
      "execution_count": null,
      "outputs": [
        {
          "output_type": "display_data",
          "data": {
            "image/png": "[encoded data removed]",
            "text/plain": [
              "<Figure size 432x288 with 1 Axes>"
            ]
          },
          "metadata": {
            "needs_background": "light"
          }
        }
      ]
    },
    {
      "cell_type": "code",
      "metadata": {
        "id": "TKte3oU48Ff2"
      },
      "source": [
        ""
      ],
      "execution_count": null,
      "outputs": []
    }
  ]
}